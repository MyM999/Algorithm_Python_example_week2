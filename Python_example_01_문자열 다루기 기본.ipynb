{
 "cells": [
  {
   "cell_type": "markdown",
   "id": "3eee836b",
   "metadata": {},
   "source": [
    "- 문제 설명\n",
    "    문자열 s의 길이가 4 혹은 6이고, 숫자로만 구성돼있는지 확인해주는 함수, solution을 완성하세요. 예를 들어 s가 \"a234\"이면 False를 리턴하고 \"1234\"라면 True를 리턴하면 됩니다.\n",
    "\n",
    "- 제한 사항\n",
    "    s는 길이 1 이상, 길이 8 이하인 문자열입니다.\n",
    "\n",
    "    - 입출력 예\n",
    "        s\treturn\n",
    "        \"a234\"\tfalse\n",
    "        \"1234\"\ttrue"
   ]
  },
  {
   "cell_type": "code",
   "execution_count": 2,
   "id": "cf5e2a78",
   "metadata": {},
   "outputs": [],
   "source": [
    "def solution(s):\n",
    "    if len(s) ==4 or len(s) == 6:\n",
    "        if s.isdigit():\n",
    "            return True\n",
    "        else:\n",
    "            return False\n",
    "    else:\n",
    "        return False"
   ]
  },
  {
   "cell_type": "code",
   "execution_count": 3,
   "id": "7b0007fa",
   "metadata": {},
   "outputs": [
    {
     "name": "stdout",
     "output_type": "stream",
     "text": [
      "False\n"
     ]
    }
   ],
   "source": [
    "print(solution(\"a234\"))"
   ]
  },
  {
   "cell_type": "code",
   "execution_count": 4,
   "id": "60ec0f38",
   "metadata": {},
   "outputs": [
    {
     "name": "stdout",
     "output_type": "stream",
     "text": [
      "True\n"
     ]
    }
   ],
   "source": [
    "print(solution(\"1234\"))"
   ]
  },
  {
   "cell_type": "code",
   "execution_count": null,
   "id": "1ae24966",
   "metadata": {},
   "outputs": [],
   "source": []
  }
 ],
 "metadata": {
  "kernelspec": {
   "display_name": "Python 3 (ipykernel)",
   "language": "python",
   "name": "python3"
  },
  "language_info": {
   "codemirror_mode": {
    "name": "ipython",
    "version": 3
   },
   "file_extension": ".py",
   "mimetype": "text/x-python",
   "name": "python",
   "nbconvert_exporter": "python",
   "pygments_lexer": "ipython3",
   "version": "3.9.7"
  }
 },
 "nbformat": 4,
 "nbformat_minor": 5
}
